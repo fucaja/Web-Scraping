{
 "cells": [
  {
   "cell_type": "markdown",
   "metadata": {},
   "source": [
    "### Librería de la API de wikipedia \n",
    "\n",
    "Wikipedia-API es un wrapper de Python fácil de usar para la API de Wikipedia. Admite la extracción de textos, secciones, enlaces, categorías, traducciones, etc.\n",
    "\n",
    "- **Repositorio:** https://github.com/martin-majlis/Wikipedia-API\n",
    "- **Documentación:** https://wikipedia-api.readthedocs.io/en/latest/README.html\n",
    "\n",
    "!pip3 install --force-reinstall -v  \"wikipedia-api==0.5.8\""
   ]
  },
  {
   "cell_type": "code",
   "execution_count": 4,
   "metadata": {},
   "outputs": [],
   "source": [
    "import wikipediaapi"
   ]
  },
  {
   "cell_type": "code",
   "execution_count": 5,
   "metadata": {},
   "outputs": [
    {
     "name": "stdout",
     "output_type": "stream",
     "text": [
      "(0, 6, 0)\n"
     ]
    }
   ],
   "source": [
    "# Vemos la versión\n",
    "print(wikipediaapi.__version__)"
   ]
  },
  {
   "cell_type": "markdown",
   "metadata": {},
   "source": [
    "Para poder utilizar la librería es necesario estar registrado en wikipedia y definir el agente"
   ]
  },
  {
   "cell_type": "code",
   "execution_count": 55,
   "metadata": {},
   "outputs": [],
   "source": [
    "# Define tu agente de usuario\n",
    "\n",
    "#user_agent = \"<user_name>/1.0 (<email>)\"\n",
    "user_agent = \"Josefc12/1.0 (jose00_0012@hotmail.com)\"\n",
    "\n",
    "wiki_wiki = wikipediaapi.Wikipedia(user_agent=user_agent, language=\"en\")"
   ]
  },
  {
   "cell_type": "code",
   "execution_count": 59,
   "metadata": {},
   "outputs": [
    {
     "name": "stdout",
     "output_type": "stream",
     "text": [
      "Archivo de tipo: <class 'wikipediaapi.WikipediaPage'>\n"
     ]
    }
   ],
   "source": [
    "# Realiza una solicitud a la API de Wikipedia\n",
    "page_py = wiki_wiki.page(\"Python\")\n",
    "\n",
    "print(f'Archivo de tipo: {type(page_py)}')"
   ]
  },
  {
   "cell_type": "code",
   "execution_count": 63,
   "metadata": {},
   "outputs": [
    {
     "name": "stdout",
     "output_type": "stream",
     "text": [
      "Titulo: Python\n",
      "Sumary: Python may refer to:\n"
     ]
    }
   ],
   "source": [
    "# Imprime Titulo y Sumary\n",
    "if page_py.exists():\n",
    "    print(f'Titulo: {page_py.title}')\n",
    "    print(f'Sumary: {page_py.summary}')\n",
    "else:\n",
    "    print(\"La página no existe.\")"
   ]
  },
  {
   "cell_type": "code",
   "execution_count": 70,
   "metadata": {},
   "outputs": [
    {
     "name": "stdout",
     "output_type": "stream",
     "text": [
      "Texto completo\n",
      "\n",
      "Python may refer to:\n",
      "\n",
      "Snakes\n",
      "Pythonidae, a family of nonvenomous snakes found in Africa, Asia, and Australia\n",
      "Python (genus), a genus of Pythonidae found in Africa and Asia\n",
      "Python (mythology), a mythical serpent\n",
      "\n",
      "Computing\n",
      "Python (programming language), a widely used high-level programming language\n",
      "Python, a native code compiler for CMU Common Lisp\n",
      "Python, the internal project name for the PERQ 3 computer workstation\n",
      "\n",
      "People\n",
      "Python of Aenus (4th-century BCE), student of Plato\n",
      "Python (painter), (ca. 360–320 BCE) vase painter in Poseidonia\n",
      "Python of Byzantium, orator, diplomat of Philip II of Macedon\n",
      "Python of Catana, poet who accompanied Alexander the Great\n",
      "Python Anghelo (1954–2014) Romanian graphic artist\n",
      "\n",
      "Roller coasters\n",
      "Python (Efteling), a roller coaster in the Netherlands\n",
      "Python (Busch Gardens Tampa Bay), a defunct roller coaster\n",
      "Python (Coney Island, Cincinnati, Ohio), a steel roller coaster\n",
      "\n",
      "Vehicles\n",
      "Python (automobile maker), an Australian car company\n",
      "Python (Ford prototype), a Ford prototype sports car\n",
      "\n",
      "Weaponry\n",
      "Python (missile), a series of Israeli air-to-air missiles\n",
      "Python (nuclear primary), a gas-boosted fission primary used in thermonuclear weapons\n",
      "Colt Python, a revolver\n",
      "\n",
      "Other uses\n",
      "Python (codename), a British nuclear war contingency plan\n",
      "Python (film), a 2000 horror film by Richard Clabaugh\n",
      "Monty Python or the Pythons, a British comedy group\n",
      "Python (Monty) Pictures, a company owned by the troupe's surviving members\n",
      "Python, a work written by philosopher Timon of Phlius\n",
      "\n",
      "See also\n",
      "Pyton, a Norwegian magazine\n",
      "Pithon, a commune in northern France\n"
     ]
    }
   ],
   "source": [
    "# Imprime el contenido del artículo\n",
    "if page_py.exists():\n",
    "    print(f'Texto completo\\n\\n{page_py.text}')\n",
    "else:\n",
    "    print(\"La página no existe.\")"
   ]
  }
 ],
 "metadata": {
  "kernelspec": {
   "display_name": "Python 3",
   "language": "python",
   "name": "python3"
  },
  "language_info": {
   "codemirror_mode": {
    "name": "ipython",
    "version": 3
   },
   "file_extension": ".py",
   "mimetype": "text/x-python",
   "name": "python",
   "nbconvert_exporter": "python",
   "pygments_lexer": "ipython3",
   "version": "3.12.0"
  }
 },
 "nbformat": 4,
 "nbformat_minor": 2
}
