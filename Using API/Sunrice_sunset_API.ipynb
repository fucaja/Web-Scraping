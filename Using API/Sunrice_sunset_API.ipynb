{
 "cells": [
  {
   "cell_type": "markdown",
   "metadata": {},
   "source": [
    "### **Uso de API (Manera directa)**"
   ]
  },
  {
   "cell_type": "markdown",
   "metadata": {},
   "source": [
    "https://sunrisesunset.io/api/ es una web que nos permite obtener la hora de amanecer y el ocaso de un determinado día.\n",
    "\n",
    "Parámetros:\n",
    "- **lat (float):** Latitud en grados decimales (obligatorio)\n",
    "- **lng (float):** Longitud en grados decimales (obligatorio)\n",
    "- **date (string):** Fecha en formato AAAA-MM-DD (día actual por defecto)"
   ]
  },
  {
   "cell_type": "markdown",
   "metadata": {},
   "source": [
    "\n",
    "Estructura de la **query:**\n",
    "\n",
    "```python\n",
    "https://api.sunrise-sunset.org/json?\n",
    "\n",
    "lat = 36.7201600\n",
    "\n",
    "&\n",
    "\n",
    "lng = -4.4203400\n",
    "\n",
    "&\n",
    "\n",
    "date = 2021-07-26\n",
    "```\n",
    "\n"
   ]
  },
  {
   "cell_type": "code",
   "execution_count": 29,
   "metadata": {},
   "outputs": [],
   "source": [
    "# Librerias\n",
    "import requests\n",
    "import json"
   ]
  },
  {
   "cell_type": "code",
   "execution_count": 30,
   "metadata": {},
   "outputs": [],
   "source": [
    "latitud, longitud, fecha = 36.72, -4.42, '2021-07-26'\n",
    "respuesta = requests.get(\n",
    "    f'https://api.sunrise-sunset.org/json?lat={latitud}&lng={longitud}&date={fecha}'\n",
    "    )"
   ]
  },
  {
   "cell_type": "code",
   "execution_count": 33,
   "metadata": {},
   "outputs": [],
   "source": [
    "# Convertimos los datos a json (esto lo vemos en el link que nos indica json)\n",
    "datos_sunset = respuesta.json()\n"
   ]
  },
  {
   "cell_type": "code",
   "execution_count": 34,
   "metadata": {},
   "outputs": [
    {
     "name": "stdout",
     "output_type": "stream",
     "text": [
      "Status: OK\n"
     ]
    }
   ],
   "source": [
    "# Verificamos que la respuesta es correcta\n",
    "state_request = datos_sunset['status']\n",
    "print(f'Status: {state_request}')"
   ]
  },
  {
   "cell_type": "code",
   "execution_count": 35,
   "metadata": {},
   "outputs": [
    {
     "data": {
      "text/plain": [
       "{'results': {'sunrise': '5:17:35 AM',\n",
       "  'sunset': '7:30:52 PM',\n",
       "  'solar_noon': '12:24:13 PM',\n",
       "  'day_length': '14:13:17',\n",
       "  'civil_twilight_begin': '4:50:01 AM',\n",
       "  'civil_twilight_end': '7:58:26 PM',\n",
       "  'nautical_twilight_begin': '4:14:31 AM',\n",
       "  'nautical_twilight_end': '8:33:56 PM',\n",
       "  'astronomical_twilight_begin': '3:35:59 AM',\n",
       "  'astronomical_twilight_end': '9:12:28 PM'},\n",
       " 'status': 'OK',\n",
       " 'tzid': 'UTC'}"
      ]
     },
     "execution_count": 35,
     "metadata": {},
     "output_type": "execute_result"
    }
   ],
   "source": [
    "# Analizamos los resultados devueltos\n",
    "datos_sunset"
   ]
  },
  {
   "cell_type": "code",
   "execution_count": 36,
   "metadata": {},
   "outputs": [
    {
     "name": "stdout",
     "output_type": "stream",
     "text": [
      "El día 2021-07-26 el sol se ocultó a las 7:30:52 PM\n"
     ]
    }
   ],
   "source": [
    "# Imprimimos la información necesaria\n",
    "sunset = datos_sunset['results']['sunset']\n",
    "print(f'El día {fecha} el sol se ocultó a las {sunset}')"
   ]
  },
  {
   "cell_type": "code",
   "execution_count": 37,
   "metadata": {},
   "outputs": [
    {
     "name": "stdout",
     "output_type": "stream",
     "text": [
      "Imprimiendo todos los datos\n",
      "ind: results\n",
      "value: {'sunrise': '5:17:35 AM', 'sunset': '7:30:52 PM', 'solar_noon': '12:24:13 PM', 'day_length': '14:13:17', 'civil_twilight_begin': '4:50:01 AM', 'civil_twilight_end': '7:58:26 PM', 'nautical_twilight_begin': '4:14:31 AM', 'nautical_twilight_end': '8:33:56 PM', 'astronomical_twilight_begin': '3:35:59 AM', 'astronomical_twilight_end': '9:12:28 PM'}\n",
      "------------------\n",
      "ind: status\n",
      "value: OK\n",
      "------------------\n",
      "ind: tzid\n",
      "value: UTC\n",
      "------------------\n"
     ]
    }
   ],
   "source": [
    "print(\"Imprimiendo todos los datos\")\n",
    "for ind, value in datos_sunset.items():\n",
    "    print(f'ind: {ind}\\nvalue: {value}\\n------------------')"
   ]
  },
  {
   "cell_type": "code",
   "execution_count": 38,
   "metadata": {},
   "outputs": [
    {
     "name": "stdout",
     "output_type": "stream",
     "text": [
      "Imprimiendo solo los datos relacionados con el tiempo\n",
      "sunrise: 5:17:35 AM\n",
      "sunset: 7:30:52 PM\n",
      "solar_noon: 12:24:13 PM\n",
      "day_length: 14:13:17\n",
      "civil_twilight_begin: 4:50:01 AM\n",
      "civil_twilight_end: 7:58:26 PM\n",
      "nautical_twilight_begin: 4:14:31 AM\n",
      "nautical_twilight_end: 8:33:56 PM\n",
      "astronomical_twilight_begin: 3:35:59 AM\n",
      "astronomical_twilight_end: 9:12:28 PM\n"
     ]
    }
   ],
   "source": [
    "print(\"Imprimiendo solo los datos relacionados con el tiempo\")\n",
    "resultados_tiempo = datos_sunset.get('results', {})\n",
    "\n",
    "if resultados_tiempo:\n",
    "    for key, value in resultados_tiempo.items():\n",
    "        print(f'{key}: {value}')\n",
    "else:\n",
    "    print(\"No se encontraron datos relacionados con el tiempo en 'results'\")"
   ]
  }
 ],
 "metadata": {
  "kernelspec": {
   "display_name": "Python 3",
   "language": "python",
   "name": "python3"
  },
  "language_info": {
   "codemirror_mode": {
    "name": "ipython",
    "version": 3
   },
   "file_extension": ".py",
   "mimetype": "text/x-python",
   "name": "python",
   "nbconvert_exporter": "python",
   "pygments_lexer": "ipython3",
   "version": "3.12.0"
  }
 },
 "nbformat": 4,
 "nbformat_minor": 2
}
